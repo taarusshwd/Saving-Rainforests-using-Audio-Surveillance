{
  "nbformat": 4,
  "nbformat_minor": 0,
  "metadata": {
    "colab": {
      "name": "Audio to Spectogram",
      "provenance": [],
      "authorship_tag": "ABX9TyPs3LBfiZE4tvxQ9UKnyKFJ"
    },
    "kernelspec": {
      "display_name": "Python 3",
      "name": "python3"
    },
    "language_info": {
      "name": "python"
    }
  },
  "cells": [
    {
      "cell_type": "code",
      "metadata": {
        "id": "2XN9UIf_A0oc"
      },
      "source": [
        "import librosa.display \n",
        "import os, gc\n",
        "import numpy as np\n",
        "import matplotlib.pyplot as plt"
      ],
      "execution_count": 1,
      "outputs": []
    },
    {
      "cell_type": "code",
      "metadata": {
        "colab": {
          "base_uri": "https://localhost:8080/"
        },
        "id": "tfVtTlXEOxgx",
        "outputId": "1ec010a0-bac5-4100-b853-a9b6aa6e7e04"
      },
      "source": [
        "from google.colab import drive\n",
        "drive.mount('/content/drive')"
      ],
      "execution_count": 2,
      "outputs": [
        {
          "output_type": "stream",
          "text": [
            "Mounted at /content/drive\n"
          ],
          "name": "stdout"
        }
      ]
    },
    {
      "cell_type": "code",
      "metadata": {
        "id": "i1AJ4QLjO8T-"
      },
      "source": [
        "def extract_spectrogram(fname, iname):\n",
        "    audio, sr = librosa.load(fname, res_type='kaiser_fast')\n",
        "    S = librosa.feature.melspectrogram(audio, sr=sr, n_mels=128)\n",
        "    log_S = librosa.power_to_db(S, ref=np.max)\n",
        "    fig = plt.figure(figsize=[1, 1])\n",
        "    ax = fig.add_subplot(111)\n",
        "    fig.subplots_adjust(left=0,right=1,bottom=0,top=1)\n",
        "    ax.axis(\"off\")\n",
        "    ax.axis(\"tight\")\n",
        "    plt.margins(0)\n",
        "    librosa.display.specshow(log_S, sr=sr)\n",
        "    fig.savefig(iname, dpi=100, pad_inches=0)\n",
        "    plt.close(fig)\n",
        "    plt.close('all')\n",
        "    del audio, S, log_S, ax, fig"
      ],
      "execution_count": 4,
      "outputs": []
    },
    {
      "cell_type": "code",
      "metadata": {
        "id": "id-9YavCPDx4"
      },
      "source": [
        "samples_folder = \"/content/test/soundscapes\"\n",
        "images_folder = \"/content/drive/MyDrive/images\""
      ],
      "execution_count": 7,
      "outputs": []
    },
    {
      "cell_type": "code",
      "metadata": {
        "id": "7Vtzsaw_PRH2"
      },
      "source": [
        "already = os.listdir(images_folder)\n",
        "d = os.listdir(samples_folder)\n",
        "for i, f in enumerate(d):\n",
        "    extract_spectrogram(samples_folder+f, f\"{images_folder}/{f.replace('.wav', '.png')}\")"
      ],
      "execution_count": 8,
      "outputs": []
    }
  ]
}