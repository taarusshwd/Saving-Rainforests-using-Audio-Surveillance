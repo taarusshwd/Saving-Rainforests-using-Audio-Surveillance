{
  "nbformat": 4,
  "nbformat_minor": 0,
  "metadata": {
    "kernelspec": {
      "display_name": "Python 3",
      "language": "python",
      "name": "python3"
    },
    "language_info": {
      "codemirror_mode": {
        "name": "ipython",
        "version": 3
      },
      "file_extension": ".py",
      "mimetype": "text/x-python",
      "name": "python",
      "nbconvert_exporter": "python",
      "pygments_lexer": "ipython3",
      "version": "3.8.8"
    },
    "colab": {
      "name": "Rainforest Data Augmentation.ipynb",
      "provenance": []
    }
  },
  "cells": [
    {
      "cell_type": "code",
      "metadata": {
        "id": "J8VcNs9oftas"
      },
      "source": [
        "import scaper, os"
      ],
      "execution_count": null,
      "outputs": []
    },
    {
      "cell_type": "code",
      "metadata": {
        "scrolled": true,
        "id": "Mxnk2c0Mftaz"
      },
      "source": [
        "help(scaper)"
      ],
      "execution_count": null,
      "outputs": []
    },
    {
      "cell_type": "code",
      "metadata": {
        "id": "LbqmO-w6fta0"
      },
      "source": [
        "soundscape_duration = 30.0\n",
        "outfolder = 'rainforest_dataset/soundscapes/'\n",
        "foreground = os.path.expanduser(\"rainforest_dataset/foreground\")\n",
        "background = os.path.expanduser(\"rainforest_dataset/background\")\n",
        "sc = scaper.Scaper(soundscape_duration, foreground, background)\n",
        "sc.add_background(label=(\"const\", \"rainforest\"),\n",
        "                 source_file=(\"choose\", []),\n",
        "                 source_time=(\"uniform\", 0, 300-soundscape_duration))"
      ],
      "execution_count": null,
      "outputs": []
    },
    {
      "cell_type": "code",
      "metadata": {
        "id": "b_HPGpKUfta0"
      },
      "source": [
        "for i in range(1000):\n",
        "    audiofile = outfolder+f'/normal_{i}.wav'\n",
        "    jamsfile = outfolder+f'jams/normal_{i}.jams'\n",
        "    sc.generate(audiofile, jamsfile,\n",
        "                allow_repeated_label=True,\n",
        "                allow_repeated_source=True,\n",
        "                disable_sox_warnings=True,\n",
        "                no_audio=False,\n",
        "                txt_path=None,\n",
        "               fix_clipping=True,\n",
        "               peak_normalization=True)"
      ],
      "execution_count": null,
      "outputs": []
    },
    {
      "cell_type": "code",
      "metadata": {
        "id": "pRaFenK6fta1"
      },
      "source": [
        "sc.add_event(label=(\"const\", \"chainsaw\"),\n",
        "            source_file=(\"choose\", []),\n",
        "            source_time=(\"uniform\", 10, 30),\n",
        "            event_time=(\"const\", 0),\n",
        "            event_duration=(\"const\", 30),\n",
        "            snr=(\"uniform\", -5, 0),\n",
        "            pitch_shift=(\"uniform\", -15, 15),\n",
        "            time_stretch=None)"
      ],
      "execution_count": null,
      "outputs": []
    },
    {
      "cell_type": "code",
      "metadata": {
        "id": "emx5j5t-fta1"
      },
      "source": [
        "for i in range(1000):\n",
        "    audiofile = outfolder+f'/soundscape_{i}.wav'\n",
        "    jamsfile = outfolder+f'jams/soundscape_{i}.jams'\n",
        "    sc.generate(audiofile, jamsfile,\n",
        "                allow_repeated_label=True,\n",
        "                allow_repeated_source=True,\n",
        "                disable_sox_warnings=True,\n",
        "                no_audio=False,\n",
        "                txt_path=None,\n",
        "               fix_clipping=True,\n",
        "               peak_normalization=True)"
      ],
      "execution_count": null,
      "outputs": []
    }
  ]
}